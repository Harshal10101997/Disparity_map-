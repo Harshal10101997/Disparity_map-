{
 "cells": [
  {
   "cell_type": "code",
   "execution_count": null,
   "metadata": {},
   "outputs": [],
   "source": [
    "\n",
    "\n",
    "import numpy as np\n",
    "from PIL import Image\n",
    "\n",
    "def stereo_match(left_img, right_img, kernel, max_offset):\n",
    "    left_img = Image.open(Read_image_left).convert('L')\n",
    "    left = np.asarray(left_img)\n",
    "    right_img = Image.open(Read_image_right).convert('L')\n",
    "    right = np.asarray(right_img)    \n",
    "    w, h = left_img.size  # assume that both images are same size   \n",
    "    \n",
    "    # Depth (or disparity) map\n",
    "    depth = np.zeros((w, h), np.uint8)\n",
    "    depth.shape = h, w\n",
    "       \n",
    "    kernel_half = int(kernel / 2)    \n",
    "    offset_adjust = 255 / max_offset  # this is used to map depth map output to 0-255 range\n",
    "      \n",
    "    for y in range(kernel_half, h - kernel_half):      \n",
    "        print(\".\", end=\"\", flush=True)  # let the user know that something is happening (slowly!)\n",
    "        \n",
    "        for x in range(kernel_half, w - kernel_half):\n",
    "            best_offset = 0\n",
    "            prev_ssd = 65534\n",
    "            \n",
    "            for offset in range(max_offset):               \n",
    "                ssd = 0\n",
    "                ssd_temp = 0                            \n",
    "                \n",
    "                # v and u are the x,y of our local window search, used to ensure a good \n",
    "                # match- going by the squared differences of two pixels alone is insufficient, \n",
    "                # we want to go by the squared differences of the neighbouring pixels too\n",
    "                for v in range(-kernel_half, kernel_half):\n",
    "                    for u in range(-kernel_half, kernel_half):\n",
    "                        # iteratively sum the sum of squared differences value for this block\n",
    "                        # left[] and right[] are arrays of uint8, so converting them to int saves\n",
    "                        # potential overflow, and executes a lot faster \n",
    "                        ssd_temp = int(left[y+v, x+u]) - int(right[y+v, (x+u) - offset])  \n",
    "                        ssd += ssd_temp * ssd_temp              \n",
    "                \n",
    "                # if this value is smaller than the previous ssd at this block\n",
    "                # then it's theoretically a closer match. Store this value against\n",
    "                # this block..\n",
    "                if  ssd < prev_ssd:\n",
    "                    prev_ssd = ssd\n",
    "                    best_offset = offset\n",
    "                            \n",
    "            # set depth output for this x,y location to the best match\n",
    "            depth[y, x] = best_offset * offset_adjust\n",
    "                                \n",
    "    # Convert to PIL and save it\n",
    "    Image.fromarray(depth).save('depth.png')\n",
    "\n",
    "if __name__ == '__main__':\n",
    "    stereo_match(\"view0.png\", \"view1.png\", 6, 30)  # 6x6 local search kernel, 30 pixel search range\n"
   ]
  }
 ],
 "metadata": {
  "kernelspec": {
   "display_name": "Python 3",
   "language": "python",
   "name": "python3"
  },
  "language_info": {
   "codemirror_mode": {
    "name": "ipython",
    "version": 3
   },
   "file_extension": ".py",
   "mimetype": "text/x-python",
   "name": "python",
   "nbconvert_exporter": "python",
   "pygments_lexer": "ipython3",
   "version": "3.8.5"
  }
 },
 "nbformat": 4,
 "nbformat_minor": 4
}
